{
 "cells": [
  {
   "cell_type": "markdown",
   "metadata": {},
   "source": [
    "Python for Bioinformatics\n",
    "-----------------------------\n",
    "\n",
    "![title](https://s3.amazonaws.com/py4bio/tapabiosmall.png)\n",
    "\n",
    "This Jupyter notebook is intented to be used alongside the book [Python for Bioinformatics](http://py3.us/)\n",
    "\n"
   ]
  },
  {
   "cell_type": "markdown",
   "metadata": {},
   "source": [
    "Chapter 4: Programming: Flow Control\n",
    "=============="
   ]
  },
  {
   "cell_type": "markdown",
   "metadata": {},
   "source": [
    "**Listing 4.1:** ifelse1.py: Basic if-else sample"
   ]
  },
  {
   "cell_type": "code",
   "execution_count": null,
   "metadata": {
    "collapsed": false
   },
   "outputs": [],
   "source": [
    " height = float(input('What is height? (in meters): '))\n",
    " if height > 1.40:\n",
    "     print('You can get in')\n",
    " else:\n",
    "     print('This ride is not for you')\n"
   ]
  },
  {
   "cell_type": "markdown",
   "metadata": {},
   "source": [
    "**Listing 4.2:** ifelse2.py: if-else in action"
   ]
  },
  {
   "cell_type": "code",
   "execution_count": 1,
   "metadata": {
    "collapsed": false,
    "scrolled": true
   },
   "outputs": [
    {
     "name": "stdout",
     "output_type": "stream",
     "text": [
      "Enter one letter: A\n",
      "The three letter code for A is Ala\n"
     ]
    }
   ],
   "source": [
    " three_letter_code = {'A':'Ala','N':'Asn','D':'Asp','C':'Cys'}\n",
    " aa = input('Enter one letter: ')\n",
    " if aa in three_letter_code:\n",
    "     print('The three letter code for {0} is {1}'.format(aa,\n",
    "            three_letter_code[aa]))\n",
    " else:\n",
    "     print(\"Sorry, I don't have it in my dictionary\")\n"
   ]
  },
  {
   "cell_type": "markdown",
   "metadata": {},
   "source": [
    "**Listing 4.3:** elif1.py: Using elif"
   ]
  },
  {
   "cell_type": "code",
   "execution_count": 4,
   "metadata": {
    "collapsed": false
   },
   "outputs": [
    {
     "name": "stdout",
     "output_type": "stream",
     "text": [
      "Enter your primer sequence: ACGTAGCTCGACATCAGACTACGACTCGCATCGCATCAGCCTCGCATCGCGA\n",
      "The primer is too long\n"
     ]
    }
   ],
   "source": [
    " dna = input('Enter your primer sequence: ')\n",
    " seqsize = len(dna)\n",
    " if seqsize < 10:\n",
    "     print('The primer must have at least ten nucleotides')\n",
    " elif seqsize < 25:\n",
    "     print('This size is OK')\n",
    " else:\n",
    "     print('The primer is too long')\n"
   ]
  },
  {
   "cell_type": "code",
   "execution_count": 4,
   "metadata": {
    "collapsed": false
   },
   "outputs": [
    {
     "data": {
      "text/plain": [
       "False"
      ]
     },
     "execution_count": 4,
     "metadata": {},
     "output_type": "execute_result"
    }
   ],
   "source": [
    "bool(1=='1')"
   ]
  },
  {
   "cell_type": "markdown",
   "metadata": {},
   "source": [
    "**Listing 4.4:** nested.py: Nested if"
   ]
  },
  {
   "cell_type": "code",
   "execution_count": null,
   "metadata": {
    "collapsed": true
   },
   "outputs": [],
   "source": [
    "dna = input('Enter your DNA sequence: ')\n",
    "seqsize = len(dna)\n",
    "if seqsize < 10:\n",
    "    print('Your primer must have at least ten nucleotides')\n",
    "    if seqsize == 0:\n",
    "        print('You must enter something!')\n",
    "elif seqsize < 25:\n",
    "    print('This size is OK')\n",
    "else:\n",
    "    print('Your primer is too long')"
   ]
  },
  {
   "cell_type": "code",
   "execution_count": 15,
   "metadata": {
    "collapsed": false
   },
   "outputs": [
    {
     "data": {
      "text/plain": [
       "42"
      ]
     },
     "execution_count": 15,
     "metadata": {},
     "output_type": "execute_result"
    }
   ],
   "source": [
    "answer=42\n",
    "answer\n"
   ]
  },
  {
   "cell_type": "code",
   "execution_count": 16,
   "metadata": {
    "collapsed": false
   },
   "outputs": [
    {
     "data": {
      "text/plain": [
       "False"
      ]
     },
     "execution_count": 16,
     "metadata": {},
     "output_type": "execute_result"
    }
   ],
   "source": [
    "answer==3\n"
   ]
  },
  {
   "cell_type": "code",
   "execution_count": 17,
   "metadata": {
    "collapsed": false
   },
   "outputs": [
    {
     "data": {
      "text/plain": [
       "True"
      ]
     },
     "execution_count": 17,
     "metadata": {},
     "output_type": "execute_result"
    }
   ],
   "source": [
    "answer==42\n"
   ]
  },
  {
   "cell_type": "markdown",
   "metadata": {},
   "source": [
    "**Listing 4.5:** elif2.py: Nested if"
   ]
  },
  {
   "cell_type": "code",
   "execution_count": null,
   "metadata": {
    "collapsed": false
   },
   "outputs": [],
   "source": [
    "dna = raw_input('Enter your DNA sequence: ')\n",
    "seqsize = len(dna)\n",
    "if seqsize == 0:\n",
    "    print('You must enter something!')\n",
    "elif 0 < seqsize < 10:\n",
    "    print('Your primer must have at least ten nucleotides')\n",
    "elif seqsize < 25:\n",
    "    print('This size is OK')\n",
    "else:\n",
    "    print('Your primer is too long')\n"
   ]
  },
  {
   "cell_type": "markdown",
   "metadata": {},
   "source": [
    "**Listing 4.6:** multiplepart.py: Multiple part condition"
   ]
  },
  {
   "cell_type": "code",
   "execution_count": 22,
   "metadata": {
    "collapsed": false
   },
   "outputs": [
    {
     "name": "stdout",
     "output_type": "stream",
     "text": [
      "Not OK\n"
     ]
    }
   ],
   "source": [
    "x = 'N/A'\n",
    "if x != 'N/A' and 5 < float(x) < 20:\n",
    "    print('OK')\n",
    "else:\n",
    "    print('Not OK')\n"
   ]
  },
  {
   "cell_type": "markdown",
   "metadata": {},
   "source": [
    "**Listing 4.7:** multiplepart2.py: Multiple part condition, inverted"
   ]
  },
  {
   "cell_type": "code",
   "execution_count": null,
   "metadata": {
    "collapsed": true
   },
   "outputs": [],
   "source": [
    "x = 'N/A'\n",
    "if 5 < float(x) < 20 and x != 'N/A':\n",
    "    print('OK')\n",
    "else:\n",
    "    print('Not OK')"
   ]
  },
  {
   "cell_type": "code",
   "execution_count": 23,
   "metadata": {
    "collapsed": false
   },
   "outputs": [
    {
     "name": "stdout",
     "output_type": "stream",
     "text": [
      "Average = 2.5\n"
     ]
    }
   ],
   "source": [
    "total = 5\n",
    "items = 2\n",
    "print(\"Average = {0}\".format(total/items if items != 0 else \"N/A\"))\n"
   ]
  },
  {
   "cell_type": "code",
   "execution_count": 24,
   "metadata": {
    "collapsed": false
   },
   "outputs": [
    {
     "name": "stdout",
     "output_type": "stream",
     "text": [
      "Average = 2.5\n"
     ]
    }
   ],
   "source": [
    "total = 5\n",
    "items = 2\n",
    "if items != 0:\n",
    "    print(\"Average = {0}\".format(total/items))\n",
    "else:\n",
    "    print(\"Average = N/A\")\n"
   ]
  },
  {
   "cell_type": "code",
   "execution_count": 25,
   "metadata": {
    "collapsed": false
   },
   "outputs": [
    {
     "name": "stdout",
     "output_type": "stream",
     "text": [
      "C\n",
      "T\n",
      "G\n",
      "A\n"
     ]
    }
   ],
   "source": [
    "bases = [\"C\", \"T\", \"G\", \"A\"]\n",
    "for x in bases:\n",
    "    print(x)\n"
   ]
  },
  {
   "cell_type": "code",
   "execution_count": 26,
   "metadata": {
    "collapsed": false
   },
   "outputs": [
    {
     "name": "stdout",
     "output_type": "stream",
     "text": [
      "0 C\n",
      "1 T\n",
      "2 G\n",
      "3 A\n"
     ]
    }
   ],
   "source": [
    "bases = [\"C\", \"T\", \"G\", \"A\"]\n",
    "for n, x in enumerate(bases):\n",
    "    print(n, x)\n"
   ]
  },
  {
   "cell_type": "code",
   "execution_count": 27,
   "metadata": {
    "collapsed": false
   },
   "outputs": [
    {
     "name": "stdout",
     "output_type": "stream",
     "text": [
      "0\n",
      "1\n",
      "2\n",
      "3\n"
     ]
    }
   ],
   "source": [
    "for x in range(4):\n",
    "    print(x)\n"
   ]
  },
  {
   "cell_type": "code",
   "execution_count": null,
   "metadata": {
    "collapsed": true
   },
   "outputs": [],
   "source": [
    "for n in [0, 1, 2, 3, 4]:\n",
    "    print(n)"
   ]
  },
  {
   "cell_type": "markdown",
   "metadata": {},
   "source": [
    "**Listing 4.8:** protwfor.py: Using for to figure the weight of a protein"
   ]
  },
  {
   "cell_type": "code",
   "execution_count": 28,
   "metadata": {
    "collapsed": false
   },
   "outputs": [
    {
     "name": "stdout",
     "output_type": "stream",
     "text": [
      "Enter your protein sequence: AFTGTGATCGTMATGHQ\n",
      "The net weight is: 1610\n"
     ]
    }
   ],
   "source": [
    "prot_seq = input(\"Enter your protein sequence: \")\n",
    "prot_weight = {\"A\":89, \"V\":117, \"L\":131, \"I\":131, \"P\":115,\n",
    "               \"F\":165, \"W\":204, \"M\":149, \"G\":75, \"S\":105,\n",
    "               \"C\":121, \"T\":119, \"Y\":181, \"N\":132, \"Q\":146,\n",
    "               \"D\":133, \"E\":147, \"K\":146, \"R\":174, \"H\":155}\n",
    "total_weight = 0\n",
    "for aa in prot_seq:\n",
    "    total_weight = total_weight + prot_weight.get(aa.upper(), 0)\n",
    "total_weight = total_weight - (18 * (len(prot_seq) - 1))\n",
    "print(\"The net weight is: {0}\".format(total_weight))\n"
   ]
  },
  {
   "cell_type": "code",
   "execution_count": 29,
   "metadata": {
    "collapsed": false
   },
   "outputs": [
    {
     "name": "stdout",
     "output_type": "stream",
     "text": [
      "10\n",
      "20\n",
      "30\n"
     ]
    }
   ],
   "source": [
    "a = 10\n",
    "while a < 40:\n",
    "    print(a)\n",
    "    a += 10\n"
   ]
  },
  {
   "cell_type": "code",
   "execution_count": 53,
   "metadata": {
    "collapsed": false
   },
   "outputs": [
    {
     "name": "stdout",
     "output_type": "stream",
     "text": [
      "10\n",
      "20\n",
      "30\n"
     ]
    }
   ],
   "source": [
    "a = 10\n",
    "while True:\n",
    "    if a < 40:\n",
    "        print(a)\n",
    "    else:\n",
    "        break\n",
    "    a += 10\n"
   ]
  },
  {
   "cell_type": "markdown",
   "metadata": {},
   "source": [
    "**Listing 4.9:** seachinlist.py: Searching a value in a list of tuples"
   ]
  },
  {
   "cell_type": "code",
   "execution_count": 40,
   "metadata": {
    "collapsed": false
   },
   "outputs": [
    {
     "name": "stdout",
     "output_type": "stream",
     "text": [
      "3\n"
     ]
    }
   ],
   "source": [
    "color_code = [('red', 1), ('green', 2), ('blue', 3), ('black', 4)]\n",
    "name = 'blue'\n",
    "for color_pair in color_code:\n",
    "    if name == color_pair[0]:\n",
    "        code = color_pair[1]\n",
    "print(code)\n"
   ]
  },
  {
   "cell_type": "markdown",
   "metadata": {},
   "source": [
    "**Listing 4.10:** seachinlist2.py: Searching a value in a list of tuples"
   ]
  },
  {
   "cell_type": "code",
   "execution_count": 41,
   "metadata": {
    "collapsed": false
   },
   "outputs": [
    {
     "name": "stdout",
     "output_type": "stream",
     "text": [
      "3\n"
     ]
    }
   ],
   "source": [
    "color_code = [('red',1), ('green',2), ('blue',3), ('black',4)]\n",
    "name = 'blue'\n",
    "for color_pair in color_code:\n",
    "    if name == color_pair[0]:\n",
    "        code = color_pair[1]\n",
    "        break\n",
    "print(code)\n"
   ]
  },
  {
   "cell_type": "markdown",
   "metadata": {},
   "source": [
    "**Listing 4.11:** seachinlist3.py: Searching a value in a list of tuples"
   ]
  },
  {
   "cell_type": "code",
   "execution_count": 42,
   "metadata": {
    "collapsed": false
   },
   "outputs": [
    {
     "name": "stdout",
     "output_type": "stream",
     "text": [
      "3\n"
     ]
    }
   ],
   "source": [
    "color_code = [('red',1), ('green',2), ('blue',3), ('black',4)]\n",
    "name = 'blue'\n",
    "i = 0\n",
    "while name != color_code[i][0]:\n",
    "    i += 1\n",
    "code = color_code[i][1]\n",
    "print(code)\n"
   ]
  },
  {
   "cell_type": "markdown",
   "metadata": {},
   "source": [
    "**Listing 4.12:** seachindict.py: Searching a value in a list of tuples using a dictionary"
   ]
  },
  {
   "cell_type": "code",
   "execution_count": 43,
   "metadata": {
    "collapsed": false
   },
   "outputs": [
    {
     "name": "stdout",
     "output_type": "stream",
     "text": [
      "3\n"
     ]
    }
   ],
   "source": [
    "color_code = [('red',1), ('green',2), ('blue',3), ('black',4)]\n",
    "name = 'blue'\n",
    "color_code_d = dict(color_code)\n",
    "print(color_code_d[name])\n"
   ]
  },
  {
   "cell_type": "markdown",
   "metadata": {},
   "source": [
    "**Listing 4.13:** protnetcharge.py: Net charge of a protein"
   ]
  },
  {
   "cell_type": "code",
   "execution_count": 44,
   "metadata": {
    "collapsed": false
   },
   "outputs": [
    {
     "name": "stdout",
     "output_type": "stream",
     "text": [
      "Enter protein sequence: EDCHYRYHEH\n",
      "-1.7710000000000001\n"
     ]
    }
   ],
   "source": [
    "prot_seq = input(\"Enter protein sequence: \").upper()\n",
    "charge = -0.002\n",
    "aa_charge = {\"C\":-.045,\"D\":-.999,\"E\":-.998,\"H\":.091,\n",
    "             \"K\":1,\"R\":1,\"Y\":-.001}\n",
    "for aa in prot_seq:\n",
    "    if aa in aa_charge:\n",
    "        charge += aa_charge[aa]\n",
    "print(charge)\n"
   ]
  },
  {
   "cell_type": "markdown",
   "metadata": {},
   "source": [
    "**Listing 4.14:** protnetcharge2.py: Net charge of a protein using get"
   ]
  },
  {
   "cell_type": "code",
   "execution_count": 3,
   "metadata": {
    "collapsed": false
   },
   "outputs": [
    {
     "name": "stdout",
     "output_type": "stream",
     "text": [
      "Enter protein sequence: AWERRDRTKKRFDHYU\n",
      "3.0919999999999996\n"
     ]
    }
   ],
   "source": [
    "prot_seq = input('Enter protein sequence: ').upper()\n",
    "charge = -0.002\n",
    "aa_charge = {'C':-.045,'D':-.999,'E':-.998,'H':.091,\n",
    "             'K':1,'R':1,'Y':-.001}\n",
    "for aa in prot_seq:\n",
    "    charge += aa_charge.get(aa, 0)\n",
    "print(charge)"
   ]
  },
  {
   "cell_type": "markdown",
   "metadata": {},
   "source": [
    "**Listing 4.15:** lowdeg.py: Search for a low degeneration zone"
   ]
  },
  {
   "cell_type": "code",
   "execution_count": 47,
   "metadata": {
    "collapsed": false
   },
   "outputs": [
    {
     "name": "stdout",
     "output_type": "stream",
     "text": [
      "Protein sequence: ACITSWYQEELTVSTHRRRKY\n",
      "CITSWYQEELTVSTH\n"
     ]
    }
   ],
   "source": [
    "prot_seq = input('Protein sequence: ').upper()\n",
    "prot_deg = {'A':4, 'C':2, 'D':2, 'E':2, 'F':2, 'G':4,\n",
    "             'H':2, 'I':3, 'K':2, 'L':6, 'M':1, 'N':2,\n",
    "             'P':4, 'Q':2, 'R':6, 'S':6, 'T':4, 'V':4,\n",
    "             'W':1, 'Y':2}\n",
    "segs_values = []\n",
    "for aa in range(len(prot_seq)):\n",
    "    segment = prot_seq[aa:aa + 15]\n",
    "    degen = 0\n",
    "    if len(segment)==15:\n",
    "        for x in segment:\n",
    "            degen += prot_deg.get(x, 3.05)\n",
    "        segs_values.append(degen)\n",
    "min_value = min(segs_values)\n",
    "minpos = segs_values.index(min_value)\n",
    "print(prot_seq[minpos:minpos + 15])\n"
   ]
  },
  {
   "cell_type": "markdown",
   "metadata": {},
   "source": [
    "**Listing 4.16:** lowdeg2.py: Searching for a low-degeneration zone; version with\n",
    "while"
   ]
  },
  {
   "cell_type": "code",
   "execution_count": 48,
   "metadata": {
    "collapsed": false
   },
   "outputs": [
    {
     "name": "stdout",
     "output_type": "stream",
     "text": [
      "Protein sequence: EKQEKQTVWACAMMMFTVYHHT\n",
      "EKQEKQTVWACAMMM\n"
     ]
    }
   ],
   "source": [
    "prot_seq = input('Protein sequence: ').upper()\n",
    "prot_deg = {'A':4, 'C':2, 'D':2, 'E':2, 'F':2, 'G':4,\n",
    "            'H':2, 'I':3, 'K':2, 'L':6, 'M':1, 'N':2,\n",
    "            'P':4, 'Q':2, 'R':6, 'S':6, 'T':4, 'V':4,\n",
    "            'W':1, 'Y':2}\n",
    "segs_values = []\n",
    "segs_seqs = []\n",
    "segment = prot_seq[:15]\n",
    "a = 0\n",
    "while len(segment)==15:\n",
    "    degen = 0\n",
    "    for x in segment:\n",
    "        degen += prot_deg.get(x, 3.05)\n",
    "    segs_values.append(degen)\n",
    "    segs_seqs.append(segment)\n",
    "    a += 1\n",
    "    segment = prot_seq[a:a+15]\n",
    "print(segs_seqs[segs_values.index(min(segs_values))])\n"
   ]
  },
  {
   "cell_type": "markdown",
   "metadata": {},
   "source": [
    "**Listing 4.17:** lowdeg3.py: Searching for a low-degeneration zone without sub-chains"
   ]
  },
  {
   "cell_type": "code",
   "execution_count": 2,
   "metadata": {
    "collapsed": false
   },
   "outputs": [
    {
     "name": "stdout",
     "output_type": "stream",
     "text": [
      "Protein sequence: EKQEKQTVWACAMMMFTVYHHT\n",
      "KQEKQTVWACAMMMF\n"
     ]
    }
   ],
   "source": [
    "prot_seq = input('Protein sequence: ').upper()\n",
    "prot_deg = {'A':4, 'C':2, 'D':2, 'E':2, 'F':2, 'G':4,\n",
    "            'H':2, 'I':3, 'K':2, 'L':6, 'M':1, 'N':2,\n",
    "            'P':4, 'Q':2, 'R':6, 'S':6, 'T':4, 'V':4,\n",
    "            'W':1, 'Y':2}\n",
    "degen_tmp = max(prot_deg.values()) * 15\n",
    "for n in range(len(prot_seq) - 15):\n",
    "    degen = 0\n",
    "    for x in prot_seq[n:n + 15]:\n",
    "        degen += prot_deg.get(x, 3.05)\n",
    "    if degen <= degen_tmp:\n",
    "        degen_tmp = degen\n",
    "        seq = prot_seq[n:n + 15]\n",
    "print(seq)\n"
   ]
  }
 ],
 "metadata": {
  "kernelspec": {
   "display_name": "Python 3",
   "language": "python",
   "name": "python3"
  },
  "language_info": {
   "codemirror_mode": {
    "name": "ipython",
    "version": 3
   },
   "file_extension": ".py",
   "mimetype": "text/x-python",
   "name": "python",
   "nbconvert_exporter": "python",
   "pygments_lexer": "ipython3",
   "version": "3.5.1"
  }
 },
 "nbformat": 4,
 "nbformat_minor": 2
}
